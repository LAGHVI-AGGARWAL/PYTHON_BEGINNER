{
  "nbformat": 4,
  "nbformat_minor": 0,
  "metadata": {
    "colab": {
      "provenance": [],
      "authorship_tag": "ABX9TyNIxV6lwT7+wPxlwg3xfxfN",
      "include_colab_link": true
    },
    "kernelspec": {
      "name": "python3",
      "display_name": "Python 3"
    },
    "language_info": {
      "name": "python"
    }
  },
  "cells": [
    {
      "cell_type": "markdown",
      "metadata": {
        "id": "view-in-github",
        "colab_type": "text"
      },
      "source": [
        "<a href=\"https://colab.research.google.com/github/LAGHVI-AGGARWAL/PYTHON_BEGINNER/blob/main/Control_Flow.ipynb\" target=\"_parent\"><img src=\"https://colab.research.google.com/assets/colab-badge.svg\" alt=\"Open In Colab\"/></a>"
      ]
    },
    {
      "cell_type": "code",
      "execution_count": null,
      "metadata": {
        "id": "jCyVy3F5NX6p",
        "colab": {
          "base_uri": "https://localhost:8080/"
        },
        "outputId": "ea8c33d7-3bd1-4e46-ffa4-25b83405cbe8"
      },
      "outputs": [
        {
          "output_type": "stream",
          "name": "stdout",
          "text": [
            "19\n",
            "You are eligible to drive\n",
            "Drive slowly\n"
          ]
        }
      ],
      "source": [
        "# IF ELSE STATEMENT\n",
        "\n",
        "age = int(input())\n",
        "if age > 18:\n",
        "  print(\"You are eligible to drive\")\n",
        "  print(\"Drive slowly\")\n",
        "else:\n",
        "  print(\"You are not eligible to drive\")"
      ]
    },
    {
      "cell_type": "code",
      "source": [
        "# NESTED IF ELSE STATEMENT\n",
        "\n",
        "age = int(input())\n",
        "if(age > 18):\n",
        "  if(age >= 65):\n",
        "    print(\"take care\")\n",
        "  else:\n",
        "    print(\"you are eligible to drive\")\n",
        "    print(\"drive slowly\")\n",
        "else:\n",
        "  print(\"you are not eligible to drive\")"
      ],
      "metadata": {
        "colab": {
          "base_uri": "https://localhost:8080/"
        },
        "id": "KFtcklyPqyVE",
        "outputId": "3f265753-4d70-4d66-ee49-47dfa1e553bf"
      },
      "execution_count": null,
      "outputs": [
        {
          "output_type": "stream",
          "name": "stdout",
          "text": [
            "10\n",
            "you are not eligible to drive\n"
          ]
        }
      ]
    },
    {
      "cell_type": "code",
      "source": [
        "# IF ELIF ELSE STATEMENT\n",
        "num = int(input())\n",
        "if(num > 0):\n",
        "  print(\"positive\")\n",
        "if(num < 0):\n",
        "  print(\"negative\")\n",
        "else:\n",
        "  print(\"zero\")\n",
        "  # here after executing first if it will go to another if, and when the next if is false it will go to else as the previous if condition is false"
      ],
      "metadata": {
        "colab": {
          "base_uri": "https://localhost:8080/"
        },
        "id": "2Cx7aU9AH_sG",
        "outputId": "f778268e-e8ba-40a4-c61e-f97819acd66d"
      },
      "execution_count": null,
      "outputs": [
        {
          "output_type": "stream",
          "name": "stdout",
          "text": [
            "45\n",
            "positive\n",
            "zero\n"
          ]
        }
      ]
    },
    {
      "cell_type": "code",
      "source": [
        "num = int(input())\n",
        "if(num > 0):\n",
        "  print(\"positive\")\n",
        "elif(num < 0):\n",
        "  print(\"negative\")\n",
        "else:\n",
        "  print(\"zero\")\n",
        "  # here when the first condition is true, it will not go to the next condition as the elif condition is there which will run when if is false"
      ],
      "metadata": {
        "colab": {
          "base_uri": "https://localhost:8080/"
        },
        "id": "xTxZRPjJII-i",
        "outputId": "da953645-36f9-46b1-c6b2-98fcaf668f81"
      },
      "execution_count": null,
      "outputs": [
        {
          "output_type": "stream",
          "name": "stdout",
          "text": [
            "20\n",
            "positive\n"
          ]
        }
      ]
    },
    {
      "cell_type": "code",
      "source": [
        "marks = [90,30,100,50,80,95]\n",
        "\n",
        "highest = marks[0]\n",
        "for i in marks:\n",
        "  if i > highest:\n",
        "    highest = i\n",
        "print(highest)"
      ],
      "metadata": {
        "colab": {
          "base_uri": "https://localhost:8080/"
        },
        "id": "yLr42kp0VRmN",
        "outputId": "0e63039f-25a8-461b-aef8-49714eb94c98"
      },
      "execution_count": null,
      "outputs": [
        {
          "output_type": "stream",
          "name": "stdout",
          "text": [
            "100\n"
          ]
        }
      ]
    },
    {
      "cell_type": "code",
      "source": [
        "# max function and min function to calculate max and min in 1d list\n",
        "print(max(marks))\n",
        "print(min(marks))"
      ],
      "metadata": {
        "colab": {
          "base_uri": "https://localhost:8080/"
        },
        "id": "N5E77DC3VVar",
        "outputId": "31481ad5-70cf-4bac-b7ab-052f74753485"
      },
      "execution_count": null,
      "outputs": [
        {
          "output_type": "stream",
          "name": "stdout",
          "text": [
            "30\n"
          ]
        }
      ]
    },
    {
      "cell_type": "code",
      "source": [
        "num = int(input())\n",
        "if(num < 60):\n",
        "  print(\"Grade E\")\n",
        "elif(num >= 60 and num < 70):\n",
        "  print(\"Grade D\")\n",
        "elif(num >= 70 and num < 80):\n",
        "  print(\"Grade C\")\n",
        "elif(num >= 80 and num < 90):\n",
        "  print(\"Grade B\")\n",
        "elif(num >=90 and num <= 100):\n",
        "  print(\"Grade A\")"
      ],
      "metadata": {
        "colab": {
          "base_uri": "https://localhost:8080/"
        },
        "id": "NX_VxsylV-3G",
        "outputId": "cba8a621-0f3e-4499-c587-4a0d8003dd2f"
      },
      "execution_count": null,
      "outputs": [
        {
          "name": "stdout",
          "output_type": "stream",
          "text": [
            "120\n"
          ]
        }
      ]
    },
    {
      "cell_type": "code",
      "source": [
        "# else:\n",
        "#   print(1)"
      ],
      "metadata": {
        "id": "9LvO91BPcj4X"
      },
      "execution_count": 1,
      "outputs": []
    }
  ]
}