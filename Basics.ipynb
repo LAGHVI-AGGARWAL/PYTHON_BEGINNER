{
  "nbformat": 4,
  "nbformat_minor": 0,
  "metadata": {
    "colab": {
      "provenance": [],
      "include_colab_link": true
    },
    "kernelspec": {
      "name": "python3",
      "display_name": "Python 3"
    },
    "language_info": {
      "name": "python"
    }
  },
  "cells": [
    {
      "cell_type": "markdown",
      "metadata": {
        "id": "view-in-github",
        "colab_type": "text"
      },
      "source": [
        "<a href=\"https://colab.research.google.com/github/LAGHVI-AGGARWAL/PYTHON_BEGINNER/blob/main/Basics.ipynb\" target=\"_parent\"><img src=\"https://colab.research.google.com/assets/colab-badge.svg\" alt=\"Open In Colab\"/></a>"
      ]
    },
    {
      "cell_type": "code",
      "source": [
        "# Yes, Python is a case-sensitive language.\n",
        "# This means that it distinguishes between uppercase and lowercase letters\n",
        "#  when it comes to identifiers like variable names, function names, and keyword"
      ],
      "metadata": {
        "id": "GlKuG0WWpph6"
      },
      "execution_count": null,
      "outputs": []
    },
    {
      "cell_type": "code",
      "execution_count": null,
      "metadata": {
        "colab": {
          "base_uri": "https://localhost:8080/"
        },
        "id": "JQMKMqSsoxEp",
        "outputId": "c58bbdb5-29ba-443b-c84e-a30a5cead9dc"
      },
      "outputs": [
        {
          "output_type": "stream",
          "name": "stdout",
          "text": [
            "hello world\n"
          ]
        }
      ],
      "source": [
        "print(\"hello world\")"
      ]
    },
    {
      "cell_type": "code",
      "source": [
        "# VARIABLES\n",
        "a = 23\n",
        "print(a)\n",
        "# ID() FUNCTION TELLS THE ADDRESS OF THE VARIABLE IE WHERE THE VARIABLE IS STORED IN THE HEAP MEMORY\n",
        "print(id(a))"
      ],
      "metadata": {
        "colab": {
          "base_uri": "https://localhost:8080/"
        },
        "id": "FxcRIHaIo-gj",
        "outputId": "63276a46-8b02-4cea-f4e2-a6d3a0ebc6c7"
      },
      "execution_count": null,
      "outputs": [
        {
          "output_type": "stream",
          "name": "stdout",
          "text": [
            "23\n",
            "10751560\n"
          ]
        }
      ]
    },
    {
      "cell_type": "code",
      "source": [
        "a = 100\n",
        "print(id(a))"
      ],
      "metadata": {
        "colab": {
          "base_uri": "https://localhost:8080/"
        },
        "id": "VEvr0FHspTBE",
        "outputId": "a44a7c7d-41a5-4fb4-98af-ab5a325723a3"
      },
      "execution_count": null,
      "outputs": [
        {
          "output_type": "stream",
          "name": "stdout",
          "text": [
            "10754024\n"
          ]
        }
      ]
    },
    {
      "cell_type": "code",
      "source": [
        "#  INTEGERS\n",
        "number = 24\n",
        "print(number)"
      ],
      "metadata": {
        "colab": {
          "base_uri": "https://localhost:8080/"
        },
        "id": "KdkE5qwEpq7O",
        "outputId": "ed520491-a2c0-4d79-e74a-38eddc11644d"
      },
      "execution_count": null,
      "outputs": [
        {
          "output_type": "stream",
          "name": "stdout",
          "text": [
            "24\n"
          ]
        }
      ]
    },
    {
      "cell_type": "code",
      "source": [
        "# TYPE() FUNCTION\n",
        "# USED TO TELL THE TYPE OF THE VARIABLE I.E THE TYPE OF DATA THAT IS STORED IN THE VARIABLE\n"
      ],
      "metadata": {
        "id": "OJn4uiuiqQvH"
      },
      "execution_count": null,
      "outputs": []
    },
    {
      "cell_type": "code",
      "source": [
        "a = 34\n",
        "print(a)\n",
        "print(id(a))\n",
        "print(type(a))"
      ],
      "metadata": {
        "colab": {
          "base_uri": "https://localhost:8080/"
        },
        "id": "cR0ie8uxqcnY",
        "outputId": "30cf5661-ce0b-4cb8-e1b8-bd37557cdcb2"
      },
      "execution_count": null,
      "outputs": [
        {
          "output_type": "stream",
          "name": "stdout",
          "text": [
            "34\n",
            "10751912\n",
            "<class 'int'>\n"
          ]
        }
      ]
    },
    {
      "cell_type": "code",
      "source": [
        "print(a)\n",
        "print(\"a\")"
      ],
      "metadata": {
        "colab": {
          "base_uri": "https://localhost:8080/"
        },
        "id": "fgSk5wmDszr6",
        "outputId": "9ac82544-7c1b-4243-e3d6-752e2906851e"
      },
      "execution_count": null,
      "outputs": [
        {
          "output_type": "stream",
          "name": "stdout",
          "text": [
            "34\n",
            "a\n"
          ]
        }
      ]
    },
    {
      "cell_type": "code",
      "source": [
        "# FLOAT TYPE"
      ],
      "metadata": {
        "id": "A14vbo9btG74"
      },
      "execution_count": null,
      "outputs": []
    },
    {
      "cell_type": "code",
      "source": [
        "f = 1.1\n",
        "print(f)\n",
        "print(type(f))"
      ],
      "metadata": {
        "colab": {
          "base_uri": "https://localhost:8080/"
        },
        "id": "phZoZBxgtIwg",
        "outputId": "2425b3e1-6bd0-4cc3-dd8e-0961b3037735"
      },
      "execution_count": null,
      "outputs": [
        {
          "output_type": "stream",
          "name": "stdout",
          "text": [
            "1.1\n",
            "<class 'float'>\n"
          ]
        }
      ]
    },
    {
      "cell_type": "code",
      "source": [
        "f1 = 2.23\n",
        "print(f1)\n",
        "print(type(f1))"
      ],
      "metadata": {
        "colab": {
          "base_uri": "https://localhost:8080/"
        },
        "id": "usM1HbCWtPEn",
        "outputId": "431cefa9-e769-4a19-8e7f-16b83949119c"
      },
      "execution_count": null,
      "outputs": [
        {
          "output_type": "stream",
          "name": "stdout",
          "text": [
            "2.23\n",
            "<class 'float'>\n"
          ]
        }
      ]
    },
    {
      "cell_type": "code",
      "source": [
        "# BOOLEANS"
      ],
      "metadata": {
        "id": "2w2q1q-5tSHW"
      },
      "execution_count": null,
      "outputs": []
    },
    {
      "cell_type": "code",
      "source": [
        "b = True\n",
        "print(b)\n",
        "print(type(b))"
      ],
      "metadata": {
        "colab": {
          "base_uri": "https://localhost:8080/"
        },
        "id": "FMGINVdBtmZG",
        "outputId": "29ddf1ea-943b-4b4f-fee1-a6d8fac9ff51"
      },
      "execution_count": null,
      "outputs": [
        {
          "output_type": "stream",
          "name": "stdout",
          "text": [
            "True\n",
            "<class 'bool'>\n"
          ]
        }
      ]
    },
    {
      "cell_type": "code",
      "source": [
        "b2 = \"true\"\n",
        "print(b2)\n",
        "print(type(b2))\n",
        "# True and true are not same\n",
        "# True is used for boolean data type"
      ],
      "metadata": {
        "colab": {
          "base_uri": "https://localhost:8080/"
        },
        "id": "TjXBRGQltq1n",
        "outputId": "748ee063-4904-4cd0-83e5-c82ea2014b81"
      },
      "execution_count": null,
      "outputs": [
        {
          "output_type": "stream",
          "name": "stdout",
          "text": [
            "true\n",
            "<class 'str'>\n"
          ]
        }
      ]
    },
    {
      "cell_type": "code",
      "source": [
        "# STRINGS\n",
        "# WE CAN USE DOUBLE QUOTES AND SINGLE QUOTES FOR WRITING A STRING\n",
        "# TRIPLE QUOTES ARE USED FOR WRITING MULTILINE STRINGS"
      ],
      "metadata": {
        "id": "XKmUBURUt3gs"
      },
      "execution_count": null,
      "outputs": []
    },
    {
      "cell_type": "code",
      "source": [
        "res = 'LAGHVI'\n",
        "print(res)\n",
        "print(type(res))"
      ],
      "metadata": {
        "colab": {
          "base_uri": "https://localhost:8080/"
        },
        "id": "aW1MMcyfvxGa",
        "outputId": "0029d72a-b761-4dcb-ea05-c2046971def9"
      },
      "execution_count": null,
      "outputs": [
        {
          "output_type": "stream",
          "name": "stdout",
          "text": [
            "LAGHVI\n",
            "<class 'str'>\n"
          ]
        }
      ]
    },
    {
      "cell_type": "code",
      "source": [
        "res1 = \"LAGHVI\"\n",
        "print(res1)\n",
        "print(type(res1))"
      ],
      "metadata": {
        "colab": {
          "base_uri": "https://localhost:8080/"
        },
        "id": "IXOalMXKwNPW",
        "outputId": "e8202147-f13a-4b2f-c485-22837ee12058"
      },
      "execution_count": null,
      "outputs": [
        {
          "output_type": "stream",
          "name": "stdout",
          "text": [
            "LAGHVI\n",
            "<class 'str'>\n"
          ]
        }
      ]
    },
    {
      "cell_type": "code",
      "source": [
        "m1 = \"\"\"\n",
        "hey there\n",
        "it is a multiline string.\"\"\"\n",
        "print(m1)\n",
        "print(type(m1))"
      ],
      "metadata": {
        "colab": {
          "base_uri": "https://localhost:8080/"
        },
        "id": "RWDZJ7mXwhEx",
        "outputId": "f0c658d5-d923-4a8b-b49d-d00951860d8e"
      },
      "execution_count": null,
      "outputs": [
        {
          "output_type": "stream",
          "name": "stdout",
          "text": [
            "\n",
            "hey there \n",
            "it is a multiline string.\n",
            "<class 'str'>\n"
          ]
        }
      ]
    },
    {
      "cell_type": "code",
      "source": [
        "# m2 = \"\"\n",
        "# is this a multiline comment\n",
        "# \"\""
      ],
      "metadata": {
        "id": "NtEdTTwbwt_C"
      },
      "execution_count": null,
      "outputs": []
    },
    {
      "cell_type": "code",
      "source": [
        "# NONE DATA TYPE\n",
        "# IT IS USED WHEN WE WANT TO PASS NO DATA IN THE VARIABLE\n",
        "# IT ACTS LIKE VOID"
      ],
      "metadata": {
        "id": "CrFXPlvZxBV_"
      },
      "execution_count": null,
      "outputs": []
    },
    {
      "cell_type": "code",
      "source": [
        "no = None\n",
        "print(no)\n",
        "print(type(no))"
      ],
      "metadata": {
        "colab": {
          "base_uri": "https://localhost:8080/"
        },
        "id": "mv2mymRaxkud",
        "outputId": "eddbf57e-9955-4342-9389-12c6770d4372"
      },
      "execution_count": null,
      "outputs": [
        {
          "output_type": "stream",
          "name": "stdout",
          "text": [
            "None\n",
            "<class 'NoneType'>\n"
          ]
        }
      ]
    },
    {
      "cell_type": "code",
      "source": [
        "no1 = 'none'\n",
        "# SIMILARLY AS IN BOOLEAN HERE ALSO None and none are different"
      ],
      "metadata": {
        "id": "J_rviXy5xqkS"
      },
      "execution_count": null,
      "outputs": []
    },
    {
      "cell_type": "code",
      "source": [
        "# INPUT USING INPUT FUNCTION"
      ],
      "metadata": {
        "id": "l6jH8br4GxFZ"
      },
      "execution_count": null,
      "outputs": []
    },
    {
      "cell_type": "code",
      "source": [
        "name = input()"
      ],
      "metadata": {
        "colab": {
          "base_uri": "https://localhost:8080/"
        },
        "id": "M-Ey77F3HA7l",
        "outputId": "b670af80-043a-4245-eb27-966991090942"
      },
      "execution_count": null,
      "outputs": [
        {
          "name": "stdout",
          "output_type": "stream",
          "text": [
            "Devansh\n"
          ]
        }
      ]
    },
    {
      "cell_type": "code",
      "source": [
        "print(name)\n",
        "print(type(name))\n",
        "print(id(name))"
      ],
      "metadata": {
        "colab": {
          "base_uri": "https://localhost:8080/"
        },
        "id": "AwA7jCd-Hc07",
        "outputId": "a261e1a6-2493-4d86-f36f-46407c4ba9fe"
      },
      "execution_count": null,
      "outputs": [
        {
          "output_type": "stream",
          "name": "stdout",
          "text": [
            "Devansh\n",
            "<class 'str'>\n",
            "138625017141936\n"
          ]
        }
      ]
    },
    {
      "cell_type": "code",
      "source": [
        "print(name)\n",
        "print(type(name))\n",
        "print(id(name))"
      ],
      "metadata": {
        "colab": {
          "base_uri": "https://localhost:8080/"
        },
        "id": "Yxq-SmIbHKq8",
        "outputId": "8a8b4776-e9f9-4e99-d5f3-34cff6ec8f4e"
      },
      "execution_count": null,
      "outputs": [
        {
          "output_type": "stream",
          "name": "stdout",
          "text": [
            "Laghvi\n",
            "<class 'str'>\n",
            "132369747366000\n"
          ]
        }
      ]
    },
    {
      "cell_type": "code",
      "source": [
        "# NUMBER AS INPUT"
      ],
      "metadata": {
        "id": "dZdnirObHiOw"
      },
      "execution_count": null,
      "outputs": []
    },
    {
      "cell_type": "code",
      "source": [
        "x = input()"
      ],
      "metadata": {
        "id": "rJ9CYiVaHloO",
        "colab": {
          "base_uri": "https://localhost:8080/"
        },
        "outputId": "9e1820de-24b8-4ce1-d460-7fea04445a16"
      },
      "execution_count": null,
      "outputs": [
        {
          "name": "stdout",
          "output_type": "stream",
          "text": [
            "11\n"
          ]
        }
      ]
    },
    {
      "cell_type": "code",
      "source": [
        "print(x)\n",
        "print(type(x))"
      ],
      "metadata": {
        "colab": {
          "base_uri": "https://localhost:8080/"
        },
        "id": "IeCwG6bnAd56",
        "outputId": "4f47f6f2-69f2-4859-e4a2-401b5d8ef277"
      },
      "execution_count": null,
      "outputs": [
        {
          "output_type": "stream",
          "name": "stdout",
          "text": [
            "11\n",
            "<class 'str'>\n"
          ]
        }
      ]
    },
    {
      "cell_type": "code",
      "source": [
        "#  INPUT FUNCTION TAKES THE INPUT IN THE FORM OF STRING DATATYPE\n",
        "# SO IF THE NUMBER IS TAKEN AS INPUT AND STORED IN A VARIABLE IT WOULD BY DEFAULT BE OF STRING DATATYPE\n",
        "# SO NEED TO DO TYPECONVERSION TO CONVERT ITS DATA TYPE"
      ],
      "metadata": {
        "id": "GiEhx58RAsti"
      },
      "execution_count": null,
      "outputs": []
    },
    {
      "cell_type": "code",
      "source": [
        "# TYPE CONVERSION"
      ],
      "metadata": {
        "id": "GPDKW-chAnig"
      },
      "execution_count": null,
      "outputs": []
    },
    {
      "cell_type": "code",
      "source": [
        "y = int(x)\n",
        "Z = float(x)\n",
        "print(y)\n",
        "print(Z)\n",
        "print(type(y))"
      ],
      "metadata": {
        "colab": {
          "base_uri": "https://localhost:8080/"
        },
        "id": "sYMoemHS9Aov",
        "outputId": "2f4b923c-974e-4fec-a84b-c7aee75b3769"
      },
      "execution_count": null,
      "outputs": [
        {
          "output_type": "stream",
          "name": "stdout",
          "text": [
            "1\n",
            "1.0\n",
            "<class 'int'>\n"
          ]
        }
      ]
    },
    {
      "cell_type": "code",
      "source": [
        "z = input()"
      ],
      "metadata": {
        "colab": {
          "base_uri": "https://localhost:8080/"
        },
        "id": "azZm-Ldl93O2",
        "outputId": "bb7da5bd-824f-4df5-ab08-dd2468d2a117"
      },
      "execution_count": null,
      "outputs": [
        {
          "name": "stdout",
          "output_type": "stream",
          "text": [
            "1.43\n"
          ]
        }
      ]
    },
    {
      "cell_type": "code",
      "source": [
        "print(type(z))"
      ],
      "metadata": {
        "colab": {
          "base_uri": "https://localhost:8080/"
        },
        "id": "rBjblTn-9-Jx",
        "outputId": "a5910823-7d8c-4eee-eb35-3bb6e4a59fa2"
      },
      "execution_count": null,
      "outputs": [
        {
          "output_type": "stream",
          "name": "stdout",
          "text": [
            "<class 'str'>\n"
          ]
        }
      ]
    },
    {
      "cell_type": "code",
      "source": [
        "y = float(z)\n",
        "# IF WE WANT TO CONVERT SUCH THAT WE WANT TO CHANGE THE ORIGINAL DATA TYPE SUCH THAT\n",
        "#  FLOAT NUMBER GETTING CONVERTED INTO INT THEN WE CANNOT CONVERT DIRECTLY INTO INT\n",
        "# FIRST FROM STRING TO FLOAT AND THEN TO INT\n",
        "x = int(y)\n",
        "print(y)\n",
        "print(x)\n",
        "print(type(y))"
      ],
      "metadata": {
        "colab": {
          "base_uri": "https://localhost:8080/"
        },
        "id": "tQRX3NGP-DqW",
        "outputId": "ed855584-af79-446a-89ad-b4634fce341c"
      },
      "execution_count": null,
      "outputs": [
        {
          "output_type": "stream",
          "name": "stdout",
          "text": [
            "1.43\n",
            "1\n",
            "<class 'float'>\n"
          ]
        }
      ]
    },
    {
      "cell_type": "code",
      "source": [
        "# PRINTING MULTIPE VALUES USING PRINT FUNCTION"
      ],
      "metadata": {
        "id": "JhyXx_uF_9y4"
      },
      "execution_count": null,
      "outputs": []
    },
    {
      "cell_type": "code",
      "source": [
        "# WE CAN PRINT MULTIPLE VALUES USING PRINT FUNCTION BY SEPARATING THEM WITH COMMAS IRRESPECTIVE OF THEIR DATA TYPE"
      ],
      "metadata": {
        "id": "T3CAkIjPACLd"
      },
      "execution_count": null,
      "outputs": []
    },
    {
      "cell_type": "code",
      "source": [
        "print(\"laghvi\",\"vansh\",\"akriti\",12,43,56,90.0,45.3,67.8)"
      ],
      "metadata": {
        "id": "bI0Do0piANR_",
        "colab": {
          "base_uri": "https://localhost:8080/"
        },
        "outputId": "f9d5ee00-0214-4eb2-c5dd-f805c18f3484"
      },
      "execution_count": 2,
      "outputs": [
        {
          "output_type": "stream",
          "name": "stdout",
          "text": [
            "laghvi vansh akriti 12 43 56 90.0 45.3 67.8\n"
          ]
        }
      ]
    },
    {
      "cell_type": "code",
      "source": [
        "# BY DEFAULT WHILE USING THE PRINT FUNCTION , THE SPACES COMES BETWEEN EVERY OBJECT THAT IS SEPARATED FROM COMMAS\n",
        "print?\n",
        "# it is because the print function is by default separated by ' '(space) and\n",
        "# ended with next line which can be seen while printing two print statements"
      ],
      "metadata": {
        "id": "iQqVGRebmoKm"
      },
      "execution_count": 5,
      "outputs": []
    },
    {
      "cell_type": "code",
      "source": [
        "# CHANGING THE DEFAULT SEP OPERATOR WITH THE USER DEFINED OPERATOR"
      ],
      "metadata": {
        "id": "mZh-XywtpXD4"
      },
      "execution_count": 6,
      "outputs": []
    },
    {
      "cell_type": "code",
      "source": [
        "print(\"laghvi\",\"vansh\",\"akriti\",12,43,56,90.0,45.3,67.8,sep = ',')\n",
        "# TO CHANGE , CHANGE THE BY DEFAULT VALUE OF THE SEP OPERATOR WITH THE USER DEFINED VALUE"
      ],
      "metadata": {
        "id": "ihE74qbxrdg-",
        "outputId": "da66f1ee-a71e-400f-c789-8e68ec5109b4",
        "colab": {
          "base_uri": "https://localhost:8080/"
        }
      },
      "execution_count": 11,
      "outputs": [
        {
          "output_type": "stream",
          "name": "stdout",
          "text": [
            "laghvi,vansh,akriti,12,43,56,90.0,45.3,67.8\n"
          ]
        }
      ]
    },
    {
      "cell_type": "code",
      "source": [
        "# CHANGING THE DEFAULT END OPERATOR WITH THE USER DEFINED OPERATOR"
      ],
      "metadata": {
        "id": "90ZNiOgzsFJr"
      },
      "execution_count": null,
      "outputs": []
    },
    {
      "cell_type": "code",
      "source": [
        "print(\"laghvi\",\"vansh\",\"akriti\",12,43,56,90.0,45.3,67.8,end = ', ')\n",
        "print(\"laghvi\")\n",
        "# TO CHANGE , CHANGE THE BY DEFAULT VALUE OF THE END OPERATOR WITH THE USER DEFINED VALUE"
      ],
      "metadata": {
        "id": "5e1ZKucysDB3",
        "outputId": "0ae3945a-fc7c-4acc-a9f0-4d7e8ee0a0f5",
        "colab": {
          "base_uri": "https://localhost:8080/"
        }
      },
      "execution_count": 17,
      "outputs": [
        {
          "output_type": "stream",
          "name": "stdout",
          "text": [
            "laghvi vansh akriti 12 43 56 90.0 45.3 67.8 , laghvi\n"
          ]
        }
      ]
    },
    {
      "cell_type": "code",
      "source": [
        "print(\"laghvi\",\"vansh\",\"akriti\",12,43,56,90.0,45.3,67.8,sep=\"->\",end = '\\n\\n')\n",
        "print(\"laghvi\")"
      ],
      "metadata": {
        "id": "BKBIKSeEtI2W",
        "outputId": "0b6e8cc8-2957-4a27-ab9c-01efae43263e",
        "colab": {
          "base_uri": "https://localhost:8080/"
        }
      },
      "execution_count": 21,
      "outputs": [
        {
          "output_type": "stream",
          "name": "stdout",
          "text": [
            "laghvi->vansh->akriti->12->43->56->90.0->45.3->67.8\n",
            "\n",
            "laghvi\n"
          ]
        }
      ]
    }
  ]
}