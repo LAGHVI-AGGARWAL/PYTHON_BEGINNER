{
  "nbformat": 4,
  "nbformat_minor": 0,
  "metadata": {
    "colab": {
      "provenance": [],
      "authorship_tag": "ABX9TyM5mxLM8F7J1Il1P2sc05qq",
      "include_colab_link": true
    },
    "kernelspec": {
      "name": "python3",
      "display_name": "Python 3"
    },
    "language_info": {
      "name": "python"
    }
  },
  "cells": [
    {
      "cell_type": "markdown",
      "metadata": {
        "id": "view-in-github",
        "colab_type": "text"
      },
      "source": [
        "<a href=\"https://colab.research.google.com/github/LAGHVI-AGGARWAL/PYTHON_BEGINNER/blob/main/Operators.ipynb\" target=\"_parent\"><img src=\"https://colab.research.google.com/assets/colab-badge.svg\" alt=\"Open In Colab\"/></a>"
      ]
    },
    {
      "cell_type": "code",
      "execution_count": null,
      "metadata": {
        "id": "qY7BjDeTKAQr"
      },
      "outputs": [],
      "source": [
        "# ARITHMETIC OPERATORS"
      ]
    },
    {
      "cell_type": "code",
      "source": [
        "a = 5\n",
        "b = 3"
      ],
      "metadata": {
        "id": "O_6dM-hS-hww"
      },
      "execution_count": null,
      "outputs": []
    },
    {
      "cell_type": "code",
      "source": [
        "print(a + b)\n",
        "print(a - b)"
      ],
      "metadata": {
        "colab": {
          "base_uri": "https://localhost:8080/"
        },
        "id": "O7j6MBsN-nFu",
        "outputId": "2a0288bd-b993-44b9-8691-fe80355a4968"
      },
      "execution_count": null,
      "outputs": [
        {
          "output_type": "stream",
          "name": "stdout",
          "text": [
            "8\n",
            "2\n"
          ]
        }
      ]
    },
    {
      "cell_type": "code",
      "source": [
        "# DIVISION OPERATOR (/) ALWAYS RESULTS THE OUTPUT IN FLOAT TYPE"
      ],
      "metadata": {
        "id": "jBJgsDvA-xJZ"
      },
      "execution_count": null,
      "outputs": []
    },
    {
      "cell_type": "code",
      "source": [
        "print(a / b )"
      ],
      "metadata": {
        "colab": {
          "base_uri": "https://localhost:8080/"
        },
        "id": "cRcJ3JTc-3V5",
        "outputId": "18482d3a-1f9e-4b00-a86d-24363512dbcb"
      },
      "execution_count": null,
      "outputs": [
        {
          "output_type": "stream",
          "name": "stdout",
          "text": [
            "1.6666666666666667\n"
          ]
        }
      ]
    },
    {
      "cell_type": "code",
      "source": [
        "print(5/5)"
      ],
      "metadata": {
        "colab": {
          "base_uri": "https://localhost:8080/"
        },
        "id": "vwZ0iU8I_FyS",
        "outputId": "2f364b20-174d-492e-bb29-2e69e1f869bc"
      },
      "execution_count": null,
      "outputs": [
        {
          "output_type": "stream",
          "name": "stdout",
          "text": [
            "1.0\n"
          ]
        }
      ]
    },
    {
      "cell_type": "code",
      "source": [
        "# ADDITION WORK SAME WITH FLOAT NUMBERS\n",
        "print(round(1.24 + 2.20,2))\n",
        "# sometimes encounter small rounding errors. If you need precise results,\n",
        "#  consider using the decimal module or rounding the result to a specific number of decimal places.\n",
        "print(1.24 + 2.20)"
      ],
      "metadata": {
        "colab": {
          "base_uri": "https://localhost:8080/"
        },
        "id": "GmKXwMFg_Ikr",
        "outputId": "f403884b-5b65-4423-f54e-64bde8cfb446"
      },
      "execution_count": null,
      "outputs": [
        {
          "output_type": "stream",
          "name": "stdout",
          "text": [
            "3.44\n",
            "3.4400000000000004\n"
          ]
        }
      ]
    },
    {
      "cell_type": "code",
      "source": [
        "1.25 + 5.00"
      ],
      "metadata": {
        "colab": {
          "base_uri": "https://localhost:8080/"
        },
        "id": "Och39HbfA_QI",
        "outputId": "93e9aeb4-9489-4df8-92bc-0ac2abae7f97"
      },
      "execution_count": null,
      "outputs": [
        {
          "output_type": "execute_result",
          "data": {
            "text/plain": [
              "6.25"
            ]
          },
          "metadata": {},
          "execution_count": 25
        }
      ]
    },
    {
      "cell_type": "code",
      "source": [
        "# STRING CONCATENATION\n",
        "first = \"Laghvi\"\n",
        "last = \"Aggarwal\""
      ],
      "metadata": {
        "id": "KgrV48nhC030"
      },
      "execution_count": null,
      "outputs": []
    },
    {
      "cell_type": "code",
      "source": [
        "first + last"
      ],
      "metadata": {
        "colab": {
          "base_uri": "https://localhost:8080/",
          "height": 38
        },
        "id": "CDxpCDoWIqeU",
        "outputId": "0443f4a8-7953-48b2-d131-a0ee05c07010"
      },
      "execution_count": null,
      "outputs": [
        {
          "output_type": "execute_result",
          "data": {
            "text/plain": [
              "'LaghviAggarwal'"
            ],
            "application/vnd.google.colaboratory.intrinsic+json": {
              "type": "string"
            }
          },
          "metadata": {},
          "execution_count": 29
        }
      ]
    },
    {
      "cell_type": "code",
      "source": [
        "print(first + ' ' + last)"
      ],
      "metadata": {
        "colab": {
          "base_uri": "https://localhost:8080/"
        },
        "id": "WsxDnNrVIs4L",
        "outputId": "c4361106-560b-4755-bea4-a48ee253d38b"
      },
      "execution_count": null,
      "outputs": [
        {
          "output_type": "stream",
          "name": "stdout",
          "text": [
            "Laghvi Aggarwal\n"
          ]
        }
      ]
    },
    {
      "cell_type": "code",
      "source": [
        "print(\"1\" + \" \" + \"1\")"
      ],
      "metadata": {
        "colab": {
          "base_uri": "https://localhost:8080/"
        },
        "id": "ZdB__SEZI-hj",
        "outputId": "457775c5-c8a7-450c-f531-03b4b2e6e0be"
      },
      "execution_count": null,
      "outputs": [
        {
          "output_type": "stream",
          "name": "stdout",
          "text": [
            "1 1\n"
          ]
        }
      ]
    },
    {
      "cell_type": "code",
      "source": [
        "# first - last\n",
        "# SUBTRACTION CANNOT BE PERFORMED ON STRINGS\n",
        "# first*first\n",
        "# MULTIPLICATION CANNOT BE PERFORMED ON STRINGS"
      ],
      "metadata": {
        "id": "WZd8ALkDKD46"
      },
      "execution_count": null,
      "outputs": []
    },
    {
      "cell_type": "code",
      "source": [
        "first * 3\n",
        "# MUTLTIPLICATION OF STRING WITH NUMBER CAN BE PERFORMED"
      ],
      "metadata": {
        "colab": {
          "base_uri": "https://localhost:8080/",
          "height": 38
        },
        "id": "M-BiD2_EMaWQ",
        "outputId": "ced6c629-bd9d-4710-9b77-aea03095ffb9"
      },
      "execution_count": null,
      "outputs": [
        {
          "output_type": "execute_result",
          "data": {
            "text/plain": [
              "'LaghviLaghviLaghvi'"
            ],
            "application/vnd.google.colaboratory.intrinsic+json": {
              "type": "string"
            }
          },
          "metadata": {},
          "execution_count": 43
        }
      ]
    },
    {
      "cell_type": "code",
      "source": [
        "# MODULO OPERATOR (%)"
      ],
      "metadata": {
        "id": "9YfKLssKMoVL"
      },
      "execution_count": null,
      "outputs": []
    },
    {
      "cell_type": "code",
      "source": [
        "print(5%3)"
      ],
      "metadata": {
        "colab": {
          "base_uri": "https://localhost:8080/"
        },
        "id": "Fi57blTpTwe4",
        "outputId": "a523fef3-0d75-467e-9dc1-27485fcd8953"
      },
      "execution_count": null,
      "outputs": [
        {
          "output_type": "stream",
          "name": "stdout",
          "text": [
            "2\n"
          ]
        }
      ]
    },
    {
      "cell_type": "code",
      "source": [
        "# IN FLOOR DIVISION (//) , THE RESULT IS FLOORED TO NEAREST SMALLER INTEGER"
      ],
      "metadata": {
        "id": "QMg-5nBuT2DJ"
      },
      "execution_count": null,
      "outputs": []
    },
    {
      "cell_type": "code",
      "source": [
        "print(5 // 3)"
      ],
      "metadata": {
        "colab": {
          "base_uri": "https://localhost:8080/"
        },
        "id": "GwMO9XLzT-oh",
        "outputId": "31e06402-d6ed-4896-bf4d-b4116ccefb5a"
      },
      "execution_count": null,
      "outputs": [
        {
          "output_type": "stream",
          "name": "stdout",
          "text": [
            "1\n"
          ]
        }
      ]
    },
    {
      "cell_type": "code",
      "source": [
        "print(-3 // 4)"
      ],
      "metadata": {
        "colab": {
          "base_uri": "https://localhost:8080/"
        },
        "id": "PZSkcF2HUs2c",
        "outputId": "9d8621c7-4495-433c-b544-991172d30e41"
      },
      "execution_count": null,
      "outputs": [
        {
          "output_type": "stream",
          "name": "stdout",
          "text": [
            "-1\n"
          ]
        }
      ]
    },
    {
      "cell_type": "code",
      "source": [
        "# TO THE POWER(**) ACCEPTS TWO VALUES BASE AND POWER"
      ],
      "metadata": {
        "id": "PGbVK1AhVGCh"
      },
      "execution_count": null,
      "outputs": []
    },
    {
      "cell_type": "code",
      "source": [
        "print(2 ** 3)"
      ],
      "metadata": {
        "id": "aTYpGTJuVNH3",
        "colab": {
          "base_uri": "https://localhost:8080/"
        },
        "outputId": "4f2a9453-88ef-4d30-efe8-b90053e65a90"
      },
      "execution_count": 11,
      "outputs": [
        {
          "output_type": "stream",
          "name": "stdout",
          "text": [
            "8\n"
          ]
        }
      ]
    },
    {
      "cell_type": "code",
      "source": [
        "# COMPARISON OPERATOR (==,!=,<,>,<=,>=)"
      ],
      "metadata": {
        "id": "2AC2grKjXt2N"
      },
      "execution_count": 12,
      "outputs": []
    },
    {
      "cell_type": "code",
      "source": [
        "# <= OR >= MEANS EITHER OF THE TWO CONDITIONS SHOULD BE TRUE I.E MUST BE GREATER OR MUST BE EQUAL AND SAME FOR <="
      ],
      "metadata": {
        "id": "NAjAtQaIfs4q"
      },
      "execution_count": 1,
      "outputs": []
    },
    {
      "cell_type": "code",
      "source": [
        "# ASSIGNMENT OPERATORS (=,+=,-=,/=,%=,*=)"
      ],
      "metadata": {
        "id": "Xk7tJGv8Ab9x"
      },
      "execution_count": 2,
      "outputs": []
    },
    {
      "cell_type": "code",
      "source": [
        "# LOGICAL OPERATORS (and,or,not)"
      ],
      "metadata": {
        "id": "kDv4TkQ5HaVS"
      },
      "execution_count": 3,
      "outputs": []
    },
    {
      "cell_type": "code",
      "source": [
        "# SPECIAL OPERATORS\n",
        "# IN OPERATOR(MEMBERSHIP OPERATOR)\n",
        "# IS OPERATOR"
      ],
      "metadata": {
        "id": "OVaYY6UfHoST"
      },
      "execution_count": 9,
      "outputs": []
    },
    {
      "cell_type": "code",
      "source": [
        "# IN OPERATOR TELLS IF AN OBJECT IS PART OF OTHER OBJECT OR NOT"
      ],
      "metadata": {
        "id": "l57r0CTyI4wp"
      },
      "execution_count": null,
      "outputs": []
    },
    {
      "cell_type": "code",
      "source": [
        "name = \"Laghvi Aggarwal\""
      ],
      "metadata": {
        "id": "Zt_3JaVPIjC0"
      },
      "execution_count": 5,
      "outputs": []
    },
    {
      "cell_type": "code",
      "source": [
        "\"l\" in name"
      ],
      "metadata": {
        "colab": {
          "base_uri": "https://localhost:8080/"
        },
        "id": "CVspeQb2Il4_",
        "outputId": "b188c190-f318-4413-a501-05e7f31fbfab"
      },
      "execution_count": 6,
      "outputs": [
        {
          "output_type": "execute_result",
          "data": {
            "text/plain": [
              "True"
            ]
          },
          "metadata": {},
          "execution_count": 6
        }
      ]
    },
    {
      "cell_type": "code",
      "source": [
        "\"iv\" in name\n",
        "# WE CANNOT JUMBLE THE WORDS EVEN WHEN THEY ARE PRESENT IN THE OBJECT"
      ],
      "metadata": {
        "colab": {
          "base_uri": "https://localhost:8080/"
        },
        "id": "BtPEvPPRInvI",
        "outputId": "9f4e0c13-7b61-4c39-c4ca-5f2ba2f96665"
      },
      "execution_count": 8,
      "outputs": [
        {
          "output_type": "execute_result",
          "data": {
            "text/plain": [
              "False"
            ]
          },
          "metadata": {},
          "execution_count": 8
        }
      ]
    },
    {
      "cell_type": "code",
      "source": [
        "# IS OPERATOR TELLS IF BOTH OBJECTS ARE AT SAME MEMORY LOCATION"
      ],
      "metadata": {
        "id": "xKEomN4FIsUo"
      },
      "execution_count": 10,
      "outputs": []
    },
    {
      "cell_type": "code",
      "source": [
        "a = 5\n",
        "b= 5\n",
        "print(id(a), id(b))"
      ],
      "metadata": {
        "colab": {
          "base_uri": "https://localhost:8080/"
        },
        "id": "1yqqBXw2JU8Q",
        "outputId": "4d91379f-8d60-4810-abe9-6e57cc99880d"
      },
      "execution_count": 12,
      "outputs": [
        {
          "output_type": "stream",
          "name": "stdout",
          "text": [
            "10750984 10750984\n"
          ]
        }
      ]
    },
    {
      "cell_type": "code",
      "source": [
        "a is b"
      ],
      "metadata": {
        "colab": {
          "base_uri": "https://localhost:8080/"
        },
        "id": "lvAmrGxQKgc7",
        "outputId": "8ec85dfc-d8c4-41c1-f5a9-26dc6d6f0435"
      },
      "execution_count": 13,
      "outputs": [
        {
          "output_type": "execute_result",
          "data": {
            "text/plain": [
              "True"
            ]
          },
          "metadata": {},
          "execution_count": 13
        }
      ]
    },
    {
      "cell_type": "code",
      "source": [
        "a = 56\n",
        "b= 98\n",
        "print(id(a),id(b))"
      ],
      "metadata": {
        "colab": {
          "base_uri": "https://localhost:8080/"
        },
        "id": "zlrhgl3bKhLN",
        "outputId": "4bd4eefe-9e8d-44a4-ac77-6c24f3ceb8c3"
      },
      "execution_count": 15,
      "outputs": [
        {
          "output_type": "stream",
          "name": "stdout",
          "text": [
            "10752616 10753960\n"
          ]
        }
      ]
    },
    {
      "cell_type": "code",
      "source": [
        "a is b"
      ],
      "metadata": {
        "colab": {
          "base_uri": "https://localhost:8080/"
        },
        "id": "mqb4YnzcKk1r",
        "outputId": "ace6025f-1b5d-42dd-a008-92ef3475eaaa"
      },
      "execution_count": 16,
      "outputs": [
        {
          "output_type": "execute_result",
          "data": {
            "text/plain": [
              "False"
            ]
          },
          "metadata": {},
          "execution_count": 16
        }
      ]
    }
  ]
}